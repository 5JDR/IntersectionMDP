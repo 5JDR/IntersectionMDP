{
 "cells": [
  {
   "cell_type": "markdown",
   "metadata": {},
   "source": [
    "# Demo\n",
    "\n",
    "This is a 2 minute demo of the MDP solution for the stoplight, it runs with the Value iteration algorithm."
   ]
  },
  {
   "cell_type": "code",
   "execution_count": 1,
   "metadata": {},
   "outputs": [
    {
     "name": "stderr",
     "output_type": "stream",
     "text": [
      "<frozen importlib._bootstrap>:488: RuntimeWarning: Your system is avx2 capable but pygame was not built with support for it. The performance of some of your blits could be adversely affected. Consider enabling compile time detection with environment variables like PYGAME_DETECT_AVX2=1 if you are compiling without cross compilation.\n"
     ]
    },
    {
     "name": "stdout",
     "output_type": "stream",
     "text": [
      "pygame 2.5.2 (SDL 2.30.5, Python 3.12.2)\n",
      "Hello from the pygame community. https://www.pygame.org/contribute.html\n",
      "Simulation duration: 120 seconds\n"
     ]
    }
   ],
   "source": [
    "%load_ext autoreload\n",
    "%reload_ext autoreload\n",
    "\n",
    "from entities.simulation import Simulation\n",
    "\n",
    "\"\"\"\n",
    "The car spawn policy determines the directions in which cars \n",
    "will spawn and the duration for which they will spawn in that direction.\n",
    "\"\"\"\n",
    "spawning_rules = [\n",
    "     ('all_directions', 30),      # 30 seconds   \n",
    "     ('no_cars', 20),              # 20 seconds  \n",
    "     ('up_down', 20),             # 20 seconds\n",
    "     ('left_right', 20),          # 20 seconds\n",
    "     ('all_directions', 30)       # 30 seconds\n",
    "]\n",
    "\n",
    "# Initialize the simulation with the car spawn policy\n",
    "simulation = Simulation(\n",
    "     cars_per_second=1,  \n",
    "     spawning_rules=spawning_rules,\n",
    "     audio=True\n",
    ")\n",
    "\n",
    "# Run the simulation\n",
    "simulation.run('vi')"
   ]
  }
 ],
 "metadata": {
  "kernelspec": {
   "display_name": "RL",
   "language": "python",
   "name": "python3"
  },
  "language_info": {
   "codemirror_mode": {
    "name": "ipython",
    "version": 3
   },
   "file_extension": ".py",
   "mimetype": "text/x-python",
   "name": "python",
   "nbconvert_exporter": "python",
   "pygments_lexer": "ipython3",
   "version": "3.12.2"
  }
 },
 "nbformat": 4,
 "nbformat_minor": 2
}
