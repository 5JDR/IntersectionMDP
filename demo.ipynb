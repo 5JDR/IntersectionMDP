{
 "cells": [
  {
   "cell_type": "markdown",
   "metadata": {},
   "source": [
    "# Demo\n",
    "\n",
    "This is a 2 minute demo of the MDP solution for the stoplight, it runs with the Value iteration algorithm."
   ]
  },
  {
   "cell_type": "code",
   "execution_count": 2,
   "metadata": {},
   "outputs": [
    {
     "name": "stdout",
     "output_type": "stream",
     "text": [
      "The autoreload extension is already loaded. To reload it, use:\n",
      "  %reload_ext autoreload\n",
      "Simulation duration: 120 seconds\n"
     ]
    }
   ],
   "source": [
    "%load_ext autoreload\n",
    "%reload_ext autoreload\n",
    "\n",
    "from entities.simulation import Simulation\n",
    "\n",
    "\"\"\"\n",
    "The car spawn policy determines the directions in which cars \n",
    "will spawn and the duration for which they will spawn in that direction.\n",
    "\"\"\"\n",
    "spawning_rules = [\n",
    "     ('all_directions', 20),      # 20 seconds   \n",
    "     ('no_cars', 20),              # 20 seconds  \n",
    "     ('up_down', 40),             # 40 seconds\n",
    "     ('left_right', 40)          # 40 seconds\n",
    "]\n",
    "\n",
    "# Initialize the demo with the car spawn policy\n",
    "demo = Simulation(\n",
    "     car_spawn_rate=1,  \n",
    "     spawning_rules=spawning_rules,\n",
    "     audio=True\n",
    ")\n",
    "\n",
    "# Run the simulation\n",
    "demo.run('vi')"
   ]
  }
 ],
 "metadata": {
  "kernelspec": {
   "display_name": "RL",
   "language": "python",
   "name": "python3"
  },
  "language_info": {
   "codemirror_mode": {
    "name": "ipython",
    "version": 3
   },
   "file_extension": ".py",
   "mimetype": "text/x-python",
   "name": "python",
   "nbconvert_exporter": "python",
   "pygments_lexer": "ipython3",
   "version": "3.12.2"
  }
 },
 "nbformat": 4,
 "nbformat_minor": 2
}
