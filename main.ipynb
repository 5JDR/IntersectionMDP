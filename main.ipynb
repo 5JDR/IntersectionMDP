{
 "cells": [
  {
   "cell_type": "code",
   "execution_count": 1,
   "metadata": {},
   "outputs": [
    {
     "name": "stdout",
     "output_type": "stream",
     "text": [
      "pygame 2.6.0 (SDL 2.28.4, Python 3.11.5)\n",
      "Hello from the pygame community. https://www.pygame.org/contribute.html\n",
      "[('all_directions', 300), ('no_cars', 120), ('up_down', 120), ('left_right', 180), ('all_directions', 180)]\n",
      "Time: 3, Interval: all_directions\n",
      "Time: 6, Interval: all_directions\n",
      "Time: 9, Interval: all_directions\n",
      "Time: 12, Interval: all_directions\n",
      "Time: 15, Interval: all_directions\n",
      "Time: 18, Interval: all_directions\n",
      "Time: 21, Interval: all_directions\n",
      "Time: 24, Interval: all_directions\n",
      "Time: 27, Interval: all_directions\n",
      "Time: 30, Interval: all_directions\n",
      "Time: 33, Interval: all_directions\n",
      "Time: 36, Interval: all_directions\n",
      "Time: 39, Interval: all_directions\n",
      "Time: 42, Interval: all_directions\n",
      "Time: 45, Interval: all_directions\n",
      "Time: 48, Interval: all_directions\n",
      "Time: 51, Interval: all_directions\n",
      "Time: 54, Interval: all_directions\n",
      "Time: 57, Interval: all_directions\n",
      "Simulation ended.\n"
     ]
    }
   ],
   "source": [
    "%load_ext autoreload\n",
    "%autoreload 2\n",
    "\n",
    "import os\n",
    "from entities.simulation import Simulation\n",
    "from model.TrafficMDP import TrafficMDP\n",
    "\n",
    "\n",
    "traffic_mdp = TrafficMDP()\n",
    "\n",
    "car_spwan_policy = [\n",
    "     ('all_directions', 5),        \n",
    "     ('no_cars', 2),            \n",
    "     ('up_down', 2),\n",
    "     ('left_right', 3),      \n",
    "     ('all_directions', 3)      \n",
    "]\n",
    "\n",
    "simulation = Simulation(\n",
    "     name=\"Ambient Test\",\n",
    "     car_spawn_frequency=1.5,  # Car every 1.5 seconds\n",
    "     simulation_duration=900,  # 15 minutes\n",
    "     car_spwan_policy=car_spwan_policy,\n",
    ")\n",
    "\n",
    "simulation.run(traffic_mdp)"
   ]
  }
 ],
 "metadata": {
  "kernelspec": {
   "display_name": "Python 3",
   "language": "python",
   "name": "python3"
  },
  "language_info": {
   "codemirror_mode": {
    "name": "ipython",
    "version": 3
   },
   "file_extension": ".py",
   "mimetype": "text/x-python",
   "name": "python",
   "nbconvert_exporter": "python",
   "pygments_lexer": "ipython3",
   "version": "3.12.2"
  }
 },
 "nbformat": 4,
 "nbformat_minor": 2
}
