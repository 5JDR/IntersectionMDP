{
 "cells": [
  {
   "cell_type": "code",
   "execution_count": 12,
   "metadata": {},
   "outputs": [
    {
     "name": "stdout",
     "output_type": "stream",
     "text": [
      "The autoreload extension is already loaded. To reload it, use:\n",
      "  %reload_ext autoreload\n"
     ]
    }
   ],
   "source": [
    "%load_ext autoreload\n",
    "%autoreload 2\n",
    "\n",
    "from entities.ambient import Ambient\n",
    "\n",
    "ambient = Ambient(\n",
    "     name=\"Ambient Test\",\n",
    "     ambient_images_path=[\n",
    "          \"./assets/img/ambient_1.png\", \n",
    "          \"./assets/img/ambient_2.png\", \n",
    "          \"./assets/img/ambient_3.png\", \n",
    "          \"./assets/img/ambient_4.png\"], \n",
    "     audio_effect_path= None, #\"./assets/audio/Street Sound Effect.mp3\",\n",
    ")\n",
    "\n",
    "ambient.start()"
   ]
  }
 ],
 "metadata": {
  "kernelspec": {
   "display_name": "Python 3",
   "language": "python",
   "name": "python3"
  },
  "language_info": {
   "codemirror_mode": {
    "name": "ipython",
    "version": 3
   },
   "file_extension": ".py",
   "mimetype": "text/x-python",
   "name": "python",
   "nbconvert_exporter": "python",
   "pygments_lexer": "ipython3",
   "version": "3.11.5"
  }
 },
 "nbformat": 4,
 "nbformat_minor": 2
}
