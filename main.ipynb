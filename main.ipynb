{
 "cells": [
  {
   "cell_type": "code",
   "execution_count": 25,
   "metadata": {},
   "outputs": [
    {
     "name": "stdout",
     "output_type": "stream",
     "text": [
      "The autoreload extension is already loaded. To reload it, use:\n",
      "  %reload_ext autoreload\n",
      "Simulation ended.\n"
     ]
    }
   ],
   "source": [
    "%load_ext autoreload\n",
    "%autoreload 2\n",
    "\n",
    "import os\n",
    "from entities.simulation import Simulation\n",
    "from model.TrafficMDP import TrafficMDP\n",
    "\n",
    "# dictionary with preferences for the simulation:\n",
    "# - name: name of the simulation\n",
    "# - car_spawn_frequency: frequency of car spawn in seconds\n",
    "# - max_simulation_time: maximum time of the simulation in seconds\n",
    "# - traffic_manage_rule: can be traffic mdp or fixed time\n",
    "# - traffic_mdp: instance of the class TrafficMDP\n",
    "# - fixed_time: dictionary with the fixed time for each traffic light\n",
    "\n",
    "\n",
    "\"\"\"simulations = [\n",
    "     {\n",
    "          \"name\": \"MDP Test\",\n",
    "          \"car_spawn_frequency\": 1.5,\n",
    "          \"max_simulation_time\": 120,\n",
    "          \"traffic_manage_rule\": \"traffic mdp\",\n",
    "          \"traffic_mdp\": TrafficMDP(),\n",
    "     },\n",
    "     {\n",
    "          \"name\": \"Fixed Time Test\",\n",
    "          \"car_spawn_frequency\": 1.5,\n",
    "          \"max_simulation_time\": 120,\n",
    "          \"traffic_manage_rule\": \"fixed time\",\n",
    "     },\n",
    "]\"\"\"\n",
    "\n",
    "\n",
    "# Define a dictionary with preferences car direction spawn:\n",
    "# - direction: direction of the car spawn\n",
    "# - spawn_frequency: frequency of car spawn in seconds\n",
    "# - car_spawn_probability: probability of car spawn\n",
    "# - car_spawn_time: time of the car spawn\n",
    "# - car_spawn_time_variance: variance of the time of the car spawn\n",
    "# - car_spawn_time_min: minimum time of the car spawn\n",
    "# - car_spawn_time_max: maximum time of the car spawn\n",
    "# - car_spawn_time_variance_min: minimum variance of the time of the car spawn\n",
    "\n",
    "car_spawn_preferences = [\n",
    "     {\n",
    "          \"direction\": \"NS\",\n",
    "          \"spawn_frequency\": 1.5,\n",
    "          \"spawn_times\": [{\"time_start\": 0, \"time_end\": 30}, {\"time_start\": 60, \"time_end\": 90}],\n",
    "     },\n",
    "     {\n",
    "          \"direction\": \"WE\",\n",
    "          \"spawn_frequency\": 1.5,\n",
    "          \"spawn_times\": [{\"time_start\": 30, \"time_end\": 60},]\n",
    "     },\n",
    "     {\n",
    "          \"direction\": \"both\",\n",
    "          \"spawn_frequency\": 1.5,\n",
    "          \"spawn_times\": [{\"time_start\": 0, \"time_end\": 30}, {\"time_start\": 60, \"time_end\": 90}],\n",
    "     }\n",
    "\n",
    "]\n",
    "\n",
    "traffic_mdp = TrafficMDP()\n",
    "\n",
    "simulation = Simulation(\n",
    "     name=\"Ambient Test\",\n",
    "     car_spawn_frequency=1.5,  # seconds\n",
    "     max_simulation_time=120,  # seconds\n",
    ")\n",
    "\n",
    "simulation.run(traffic_mdp)"
   ]
  }
 ],
 "metadata": {
  "kernelspec": {
   "display_name": "Python 3",
   "language": "python",
   "name": "python3"
  },
  "language_info": {
   "codemirror_mode": {
    "name": "ipython",
    "version": 3
   },
   "file_extension": ".py",
   "mimetype": "text/x-python",
   "name": "python",
   "nbconvert_exporter": "python",
   "pygments_lexer": "ipython3",
   "version": "3.11.5"
  }
 },
 "nbformat": 4,
 "nbformat_minor": 2
}
