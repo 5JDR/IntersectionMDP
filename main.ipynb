{
 "cells": [
  {
   "cell_type": "code",
   "execution_count": 17,
   "metadata": {},
   "outputs": [
    {
     "name": "stdout",
     "output_type": "stream",
     "text": [
      "The autoreload extension is already loaded. To reload it, use:\n",
      "  %reload_ext autoreload\n"
     ]
    }
   ],
   "source": [
    "%load_ext autoreload\n",
    "%autoreload 2\n",
    "\n",
    "from entities.simulation import Simulation\n",
    "\n",
    "\"\"\"\n",
    "The car spawn policy determines the directions in which cars \n",
    "will spawn and the duration for which they will spawn in that direction.\n",
    "\"\"\"\n",
    "car_spwan_policy = [\n",
    "     ('all_directions', 5),    # 5 minutes    \n",
    "     ('no_cars', 1),           # 1 minute  \n",
    "     ('up_down', 2),           # 2 minutes\n",
    "     ('left_right', 2),        # 2 minutes\n",
    "     ('all_directions', 5)     # 5 minutes \n",
    "]\n",
    "\n",
    "simulation = Simulation(\n",
    "     name=\"Ambient Test\",\n",
    "     car_spawn_frequency=1.5,  # Car every 1.5 seconds\n",
    "     simulation_duration=900,  # 15 minutes\n",
    "     car_spwan_policy=car_spwan_policy,\n",
    ")\n",
    "\n",
    "simulation.run('mdp')"
   ]
  }
 ],
 "metadata": {
  "kernelspec": {
   "display_name": "Python 3",
   "language": "python",
   "name": "python3"
  },
  "language_info": {
   "codemirror_mode": {
    "name": "ipython",
    "version": 3
   },
   "file_extension": ".py",
   "mimetype": "text/x-python",
   "name": "python",
   "nbconvert_exporter": "python",
   "pygments_lexer": "ipython3",
   "version": "3.12.2"
  }
 },
 "nbformat": 4,
 "nbformat_minor": 2
}
