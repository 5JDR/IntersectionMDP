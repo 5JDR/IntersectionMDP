{
 "cells": [
  {
   "cell_type": "code",
   "execution_count": 2,
   "metadata": {},
   "outputs": [
    {
     "name": "stdout",
     "output_type": "stream",
     "text": [
      "The autoreload extension is already loaded. To reload it, use:\n",
      "  %reload_ext autoreload\n"
     ]
    }
   ],
   "source": [
    "%load_ext autoreload\n",
    "%autoreload 2\n",
    "\n",
    "import os\n",
    "from entities.simulation import Simulation\n",
    "\n",
    "\n",
    "ambient = Simulation(\n",
    "     name=\"Ambient Test\",\n",
    "     ambient_images_path=[f\"./assets/img/{_}\" for _ in os.listdir(\"./assets/img\")],\n",
    "     #audio_effect_path= \"./assets/audio/Street Sound Effect.mp3\",\n",
    ")\n",
    "\n",
    "ambient.run()"
   ]
  }
 ],
 "metadata": {
  "kernelspec": {
   "display_name": "Python 3",
   "language": "python",
   "name": "python3"
  },
  "language_info": {
   "codemirror_mode": {
    "name": "ipython",
    "version": 3
   },
   "file_extension": ".py",
   "mimetype": "text/x-python",
   "name": "python",
   "nbconvert_exporter": "python",
   "pygments_lexer": "ipython3",
   "version": "3.11.5"
  }
 },
 "nbformat": 4,
 "nbformat_minor": 2
}
