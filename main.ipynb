{
 "cells": [
  {
   "cell_type": "code",
   "execution_count": 15,
   "metadata": {},
   "outputs": [
    {
     "name": "stdout",
     "output_type": "stream",
     "text": [
      "The autoreload extension is already loaded. To reload it, use:\n",
      "  %reload_ext autoreload\n",
      "[('left_right', 60), ('no_cars', 60), ('up_down_left_right', 780)]\n",
      "Time: 3, Interval: left_right\n",
      "Time: 6, Interval: left_right\n",
      "Simulation ended.\n"
     ]
    }
   ],
   "source": [
    "%load_ext autoreload\n",
    "%autoreload 2\n",
    "\n",
    "import os\n",
    "from entities.simulation import Simulation\n",
    "from model.TrafficMDP import TrafficMDP\n",
    "\n",
    "\n",
    "traffic_mdp = TrafficMDP()\n",
    "\n",
    "proportions = [\n",
    "     ('all_directions', 5),        \n",
    "     ('no_cars', 2),            \n",
    "     ('up_down', 2)\n",
    "     ('left_right', 3),      \n",
    "     ('all_directions', 3)      \n",
    "]\n",
    "\n",
    "simulation = Simulation(\n",
    "     name=\"Ambient Test\",\n",
    "     car_spawn_frequency=1.5,  # every 1.5 seconds\n",
    "     max_simulation_time=900,  # 15 minutes\n",
    "     proportions=proportions,\n",
    ")\n",
    "\n",
    "simulation.run(traffic_mdp)"
   ]
  }
 ],
 "metadata": {
  "kernelspec": {
   "display_name": "Python 3",
   "language": "python",
   "name": "python3"
  },
  "language_info": {
   "codemirror_mode": {
    "name": "ipython",
    "version": 3
   },
   "file_extension": ".py",
   "mimetype": "text/x-python",
   "name": "python",
   "nbconvert_exporter": "python",
   "pygments_lexer": "ipython3",
   "version": "3.12.2"
  }
 },
 "nbformat": 4,
 "nbformat_minor": 2
}
